{
  "cells": [
    {
      "cell_type": "markdown",
      "source": [
        "Hackathon Group 4\n",
        "**bold text**\n",
        "Problem Statement :\n",
        "1)Develop a user-friendly search engine to efficiently locate and explain specific topics, concepts, or questions within NCERT textbooks.\n",
        "2)Help class teachers to prepare exam question papers\n",
        "3)Help students to do the homework"
      ],
      "metadata": {
        "id": "dcMJHfhMiOyy"
      }
    },
    {
      "cell_type": "code",
      "execution_count": null,
      "metadata": {
        "jupyter": {
          "outputs_hidden": false,
          "source_hidden": false
        },
        "nteract": {
          "transient": {
            "deleting": false
          }
        },
        "colab": {
          "base_uri": "https://localhost:8080/"
        },
        "id": "_dtf0nLGVfST",
        "outputId": "8f9e2300-606f-4b53-cf44-ade503b010cc"
      },
      "outputs": [
        {
          "output_type": "stream",
          "name": "stdout",
          "text": [
            "Collecting openai==1.13.3\n",
            "  Downloading openai-1.13.3-py3-none-any.whl (227 kB)\n",
            "\u001b[2K     \u001b[90m━━━━━━━━━━━━━━━━━━━━━━━━━━━━━━━━━━━━━━━━\u001b[0m \u001b[32m227.4/227.4 kB\u001b[0m \u001b[31m3.1 MB/s\u001b[0m eta \u001b[36m0:00:00\u001b[0m\n",
            "\u001b[?25hRequirement already satisfied: anyio<5,>=3.5.0 in /usr/local/lib/python3.10/dist-packages (from openai==1.13.3) (3.7.1)\n",
            "Requirement already satisfied: distro<2,>=1.7.0 in /usr/lib/python3/dist-packages (from openai==1.13.3) (1.7.0)\n",
            "Collecting httpx<1,>=0.23.0 (from openai==1.13.3)\n",
            "  Downloading httpx-0.27.0-py3-none-any.whl (75 kB)\n",
            "\u001b[2K     \u001b[90m━━━━━━━━━━━━━━━━━━━━━━━━━━━━━━━━━━━━━━━━\u001b[0m \u001b[32m75.6/75.6 kB\u001b[0m \u001b[31m5.4 MB/s\u001b[0m eta \u001b[36m0:00:00\u001b[0m\n",
            "\u001b[?25hRequirement already satisfied: pydantic<3,>=1.9.0 in /usr/local/lib/python3.10/dist-packages (from openai==1.13.3) (2.7.3)\n",
            "Requirement already satisfied: sniffio in /usr/local/lib/python3.10/dist-packages (from openai==1.13.3) (1.3.1)\n",
            "Requirement already satisfied: tqdm>4 in /usr/local/lib/python3.10/dist-packages (from openai==1.13.3) (4.66.4)\n",
            "Requirement already satisfied: typing-extensions<5,>=4.7 in /usr/local/lib/python3.10/dist-packages (from openai==1.13.3) (4.12.2)\n",
            "Requirement already satisfied: idna>=2.8 in /usr/local/lib/python3.10/dist-packages (from anyio<5,>=3.5.0->openai==1.13.3) (3.7)\n",
            "Requirement already satisfied: exceptiongroup in /usr/local/lib/python3.10/dist-packages (from anyio<5,>=3.5.0->openai==1.13.3) (1.2.1)\n",
            "Requirement already satisfied: certifi in /usr/local/lib/python3.10/dist-packages (from httpx<1,>=0.23.0->openai==1.13.3) (2024.6.2)\n",
            "Collecting httpcore==1.* (from httpx<1,>=0.23.0->openai==1.13.3)\n",
            "  Downloading httpcore-1.0.5-py3-none-any.whl (77 kB)\n",
            "\u001b[2K     \u001b[90m━━━━━━━━━━━━━━━━━━━━━━━━━━━━━━━━━━━━━━━━\u001b[0m \u001b[32m77.9/77.9 kB\u001b[0m \u001b[31m4.3 MB/s\u001b[0m eta \u001b[36m0:00:00\u001b[0m\n",
            "\u001b[?25hCollecting h11<0.15,>=0.13 (from httpcore==1.*->httpx<1,>=0.23.0->openai==1.13.3)\n",
            "  Downloading h11-0.14.0-py3-none-any.whl (58 kB)\n",
            "\u001b[2K     \u001b[90m━━━━━━━━━━━━━━━━━━━━━━━━━━━━━━━━━━━━━━━━\u001b[0m \u001b[32m58.3/58.3 kB\u001b[0m \u001b[31m2.0 MB/s\u001b[0m eta \u001b[36m0:00:00\u001b[0m\n",
            "\u001b[?25hRequirement already satisfied: annotated-types>=0.4.0 in /usr/local/lib/python3.10/dist-packages (from pydantic<3,>=1.9.0->openai==1.13.3) (0.7.0)\n",
            "Requirement already satisfied: pydantic-core==2.18.4 in /usr/local/lib/python3.10/dist-packages (from pydantic<3,>=1.9.0->openai==1.13.3) (2.18.4)\n",
            "Installing collected packages: h11, httpcore, httpx, openai\n",
            "Successfully installed h11-0.14.0 httpcore-1.0.5 httpx-0.27.0 openai-1.13.3\n"
          ]
        }
      ],
      "source": [
        "!pip install openai==1.13.3"
      ]
    },
    {
      "cell_type": "code",
      "source": [],
      "metadata": {
        "id": "xFrtythYiK-7"
      },
      "execution_count": null,
      "outputs": []
    },
    {
      "cell_type": "markdown",
      "source": [],
      "metadata": {
        "id": "ktpsp6wJiJL1"
      }
    },
    {
      "cell_type": "code",
      "execution_count": null,
      "metadata": {
        "gather": {
          "logged": 1712392098283
        },
        "id": "f_jhsr58VfSW"
      },
      "outputs": [],
      "source": [
        "# Add Azure OpenAI package\n",
        "from openai import AzureOpenAI"
      ]
    },
    {
      "cell_type": "code",
      "execution_count": null,
      "metadata": {
        "gather": {
          "logged": 1712392099428
        },
        "jupyter": {
          "outputs_hidden": false,
          "source_hidden": false
        },
        "nteract": {
          "transient": {
            "deleting": false
          }
        },
        "id": "JhzNSpUGVfSW"
      },
      "outputs": [],
      "source": [
        "import json\n",
        "\n",
        "# Flag to show citations\n",
        "show_citations = True\n",
        "\n",
        "azure_oai_endpoint =\"https://eygroup-4.openai.azure.com/\"\n",
        "azure_oai_key =\"f7c22254bdd64e9584b04ca52566c4aa\"\n",
        "azure_oai_deployment =\"eygroup4hackathon\"\n",
        "azure_search_endpoint = \"https://eygrp4.search.windows.net\"\n",
        "azure_search_key = \"j5pyCLYGBJbuAq663qWOyd8rSTuOGelctG7fxHjKzQAzSeARXs8x\"\n",
        "azure_search_index = \"eygroup4hackathondatasource\""
      ]
    },
    {
      "cell_type": "code",
      "execution_count": null,
      "metadata": {
        "gather": {
          "logged": 1712392100502
        },
        "jupyter": {
          "outputs_hidden": false,
          "source_hidden": false
        },
        "nteract": {
          "transient": {
            "deleting": false
          }
        },
        "id": "jy6vxTufVfSX"
      },
      "outputs": [],
      "source": [
        "# Initialize the Azure OpenAI client\n",
        "client = AzureOpenAI(\n",
        "            base_url=f\"{azure_oai_endpoint}/openai/deployments/{azure_oai_deployment}/extensions\",\n",
        "            api_key=azure_oai_key,\n",
        "            api_version=\"2023-09-01-preview\")"
      ]
    },
    {
      "cell_type": "code",
      "execution_count": null,
      "metadata": {
        "gather": {
          "logged": 1712392101499
        },
        "jupyter": {
          "outputs_hidden": false,
          "source_hidden": false
        },
        "nteract": {
          "transient": {
            "deleting": false
          }
        },
        "id": "jDpPfzlcVfSY"
      },
      "outputs": [],
      "source": [
        "# Configure your data source\n",
        "extension_config = dict(dataSources = [\n",
        "        {\n",
        "            \"type\": \"AzureCognitiveSearch\",\n",
        "            \"parameters\": {\n",
        "                \"endpoint\":azure_search_endpoint,\n",
        "                \"key\": azure_search_key,\n",
        "                \"indexName\": azure_search_index,\n",
        "            }\n",
        "        }]\n",
        "    )"
      ]
    },
    {
      "cell_type": "code",
      "execution_count": null,
      "metadata": {
        "gather": {
          "logged": 1712392139105
        },
        "jupyter": {
          "outputs_hidden": false,
          "source_hidden": false
        },
        "nteract": {
          "transient": {
            "deleting": false
          }
        },
        "colab": {
          "base_uri": "https://localhost:8080/"
        },
        "id": "_bJhPkfyVfSY",
        "outputId": "ff490d8c-516b-4498-8d16-aa3cc75e741a"
      },
      "outputs": [
        {
          "name": "stdout",
          "output_type": "stream",
          "text": [
            "\n",
            "Enter a question:\n",
            "Please summarize the lesson motion and time.\n"
          ]
        }
      ],
      "source": [
        "# Get the prompt\n",
        "text = input('\\nEnter a question:\\n')"
      ]
    },
    {
      "cell_type": "code",
      "execution_count": null,
      "metadata": {
        "gather": {
          "logged": 1712392142167
        },
        "jupyter": {
          "outputs_hidden": false,
          "source_hidden": false
        },
        "nteract": {
          "transient": {
            "deleting": false
          }
        },
        "colab": {
          "base_uri": "https://localhost:8080/"
        },
        "id": "StPyGzsRVfSZ",
        "outputId": "f61b44e1-f918-4953-b072-d3ebb5635b57"
      },
      "outputs": [
        {
          "output_type": "stream",
          "name": "stdout",
          "text": [
            "...Sending the following request to Azure OpenAI endpoint...\n",
            "Request: Please summarize the lesson motion and time.\n",
            "\n"
          ]
        }
      ],
      "source": [
        "# Send request to Azure OpenAI model\n",
        "print(\"...Sending the following request to Azure OpenAI endpoint...\")\n",
        "print(\"Request: \" + text + \"\\n\")\n",
        "system_message = \"\"\"You are a user-friendly search engine to efficiently locate and explain specific topics, concepts, or questions within NCERT textbooks.\n",
        "Also help class teachers to prepare questions for exams only with in the content provided.\"\"\"\n",
        "\n",
        "response = client.chat.completions.create(\n",
        "    model = azure_oai_deployment,\n",
        "    temperature = 0.5,\n",
        "    max_tokens = 1000,\n",
        "    messages = [\n",
        "         {\"role\": \"system\", \"content\": system_message},\n",
        "         {\"role\": \"user\", \"content\": text}\n",
        "            ],\n",
        "            extra_body = extension_config\n",
        "        )"
      ]
    },
    {
      "cell_type": "code",
      "execution_count": null,
      "metadata": {
        "gather": {
          "logged": 1712392342071
        },
        "jupyter": {
          "outputs_hidden": false,
          "source_hidden": false
        },
        "nteract": {
          "transient": {
            "deleting": false
          }
        },
        "colab": {
          "base_uri": "https://localhost:8080/"
        },
        "id": "aHrLLZUYVfSZ",
        "outputId": "8345c27b-1242-46cb-c617-6acf92bab9ad"
      },
      "outputs": [
        {
          "output_type": "stream",
          "name": "stdout",
          "text": [
            "Response: Motion and Time is a lesson that covers various concepts related to motion and time. It introduces different types of motions, such as motion along a straight line, circular motion, and periodic motion. The lesson explains how to identify the type of motion in different examples. It also discusses the concepts of speed and distance-time graphs. The lesson emphasizes that the distance moved by an object in a unit time is called its speed. It explains how to calculate speed using the formula speed = distance/time. The lesson also introduces the concept of time period and discusses how periodic events, like the motion of a pendulum, are used for measuring time. Additionally, the lesson provides information on how to plot a distance-time graph to represent the motion of an object and explains that a straight line on the graph indicates constant speed. Overall, the lesson covers the fundamental concepts of motion and time and provides practical examples and illustrations to enhance understanding. [doc1][doc2][doc4][doc5]oc5]\n",
            "\n"
          ]
        }
      ],
      "source": [
        "# Print response\n",
        "print(\"Response: \" + response.choices[0].message.content + \"\\n\")"
      ]
    },
    {
      "cell_type": "code",
      "execution_count": null,
      "metadata": {
        "gather": {
          "logged": 1712392291521
        },
        "jupyter": {
          "outputs_hidden": false,
          "source_hidden": false
        },
        "nteract": {
          "transient": {
            "deleting": false
          }
        },
        "colab": {
          "base_uri": "https://localhost:8080/"
        },
        "id": "hgNERym5VfSZ",
        "outputId": "739782f9-4d89-48d8-f623-47b408396389"
      },
      "outputs": [
        {
          "output_type": "stream",
          "name": "stdout",
          "text": [
            "Citations:\n",
            "  Title: Motion and Time9\n",
            "    URL: https://eygroup4hackathon.blob.core.windows.net/ncertstudymaterial/gesc109.pdf\n",
            "  Title: Motion and Time9\n",
            "    URL: https://eygroup4hackathon.blob.core.windows.net/ncertstudymaterial/gesc109.pdf\n",
            "  Title: Electric Current\n",
            "    URL: https://eygroup4hackathon.blob.core.windows.net/ncertstudymaterial/gesc110.pdf\n",
            "  Title: Motion and Time9\n",
            "    URL: https://eygroup4hackathon.blob.core.windows.net/ncertstudymaterial/gesc109.pdf\n",
            "  Title: Motion and Time9\n",
            "    URL: https://eygroup4hackathon.blob.core.windows.net/ncertstudymaterial/gesc109.pdf\n"
          ]
        }
      ],
      "source": [
        "#Check for the citations\n",
        "if (show_citations):\n",
        "    # Print citations\n",
        "    print(\"Citations:\")\n",
        "    citations = response.choices[0].message.context[\"messages\"][0][\"content\"]\n",
        "    citation_json = json.loads(citations)\n",
        "    for c in citation_json[\"citations\"]:\n",
        "        print(\"  Title: \" + c['title'] + \"\\n    URL: \" + c['url'])"
      ]
    },
    {
      "cell_type": "code",
      "execution_count": null,
      "metadata": {
        "jupyter": {
          "outputs_hidden": false,
          "source_hidden": false
        },
        "nteract": {
          "transient": {
            "deleting": false
          }
        },
        "id": "-36tQObkVfSa"
      },
      "outputs": [],
      "source": []
    }
  ],
  "metadata": {
    "kernel_info": {
      "name": "python38-azureml"
    },
    "kernelspec": {
      "display_name": "Python 3.8 - AzureML",
      "language": "python",
      "name": "python38-azureml"
    },
    "language_info": {
      "codemirror_mode": {
        "name": "ipython",
        "version": 3
      },
      "file_extension": ".py",
      "mimetype": "text/x-python",
      "name": "python",
      "nbconvert_exporter": "python",
      "pygments_lexer": "ipython3",
      "version": "3.8.5"
    },
    "microsoft": {
      "host": {
        "AzureML": {
          "notebookHasBeenCompleted": true
        }
      },
      "ms_spell_check": {
        "ms_spell_check_language": "en"
      }
    },
    "nteract": {
      "version": "nteract-front-end@1.0.0"
    },
    "colab": {
      "provenance": []
    }
  },
  "nbformat": 4,
  "nbformat_minor": 0
}